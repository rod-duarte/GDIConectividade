{
 "cells": [
  {
   "cell_type": "code",
   "execution_count": 1,
   "metadata": {},
   "outputs": [],
   "source": [
    "import cx_Oracle"
   ]
  },
  {
   "cell_type": "code",
   "execution_count": 2,
   "metadata": {},
   "outputs": [
    {
     "name": "stdout",
     "output_type": "stream",
     "text": [
      "Conectado com Sucesso\n"
     ]
    }
   ],
   "source": [
    "user=\"system\"\n",
    "password=\"password\"\n",
    "\n",
    "try:\n",
    "    conection = cx_Oracle.connect(user+\"/\"+password)\n",
    "    print(\"Conectado com Sucesso\")\n",
    "except cx_Oracle.Error as e:\n",
    "    print(\"Erro na conexão\")\n",
    "    print(e)"
   ]
  },
  {
   "cell_type": "code",
   "execution_count": null,
   "metadata": {},
   "outputs": [],
   "source": [
    "cur = conection.cursor()\n",
    "\n",
    "cur.execute('''\n",
    "CREATE TABLE COPA (\n",
    "    ANO VARCHAR(4),\n",
    "    CONSTRAINT PK_COPA PRIMARY KEY(ANO)\n",
    ")\n",
    "''')\n",
    "\n",
    "conection.commit()\n",
    "\n",
    "cur.close()"
   ]
  },
  {
   "cell_type": "code",
   "execution_count": null,
   "metadata": {},
   "outputs": [],
   "source": [
    "cur = conection.cursor()\n",
    "\n",
    "cur.execute('''\n",
    "INSERT INTO COPA(ANO) VALUES ('2014')\n",
    "''')\n",
    "\n",
    "conection.commit()\n",
    "\n",
    "cur.close()"
   ]
  },
  {
   "cell_type": "code",
   "execution_count": 25,
   "metadata": {},
   "outputs": [],
   "source": [
    "cur = conection.cursor()\n",
    "\n",
    "cur.execute('''\n",
    "INSERT INTO COPA(ANO) VALUES ('2018')\n",
    "''')\n",
    "\n",
    "conection.commit()\n",
    "\n",
    "cur.close()"
   ]
  },
  {
   "cell_type": "code",
   "execution_count": null,
   "metadata": {},
   "outputs": [],
   "source": [
    "cur = conection.cursor()\n",
    "\n",
    "cur.execute('''\n",
    "CREATE TABLE ESTADIO(\n",
    "NOME VARCHAR(20),\n",
    "END_RUA VARCHAR(30),\n",
    "END_NUM INT,\n",
    "END_CIDADE VARCHAR(30),\n",
    "CONSTRAINT PK_ESTADIO PRIMARY KEY (NOME)\n",
    ")\n",
    "''')\n",
    "\n",
    "conection.commit()\n",
    "\n",
    "cur.close() "
   ]
  },
  {
   "cell_type": "code",
   "execution_count": 4,
   "metadata": {},
   "outputs": [],
   "source": [
    "from ipywidgets import widgets\n",
    "from IPython.display import display"
   ]
  },
  {
   "cell_type": "code",
   "execution_count": 12,
   "metadata": {},
   "outputs": [
    {
     "data": {
      "application/vnd.jupyter.widget-view+json": {
       "model_id": "fa4be6da7f0c44e8ac3345b10928037a",
       "version_major": 2,
       "version_minor": 0
      },
      "text/plain": [
       "Text(value='', description='Nome')"
      ]
     },
     "metadata": {},
     "output_type": "display_data"
    },
    {
     "data": {
      "application/vnd.jupyter.widget-view+json": {
       "model_id": "9bc7ddecd7584005860f537d4eb3e02f",
       "version_major": 2,
       "version_minor": 0
      },
      "text/plain": [
       "Text(value='', description='Rua')"
      ]
     },
     "metadata": {},
     "output_type": "display_data"
    },
    {
     "data": {
      "application/vnd.jupyter.widget-view+json": {
       "model_id": "5f957b3fe6d84153827432b4765f37ff",
       "version_major": 2,
       "version_minor": 0
      },
      "text/plain": [
       "IntText(value=0, description='Numero')"
      ]
     },
     "metadata": {},
     "output_type": "display_data"
    },
    {
     "data": {
      "application/vnd.jupyter.widget-view+json": {
       "model_id": "e66d44bb3d8f4eefb09a9d885cfa6e17",
       "version_major": 2,
       "version_minor": 0
      },
      "text/plain": [
       "Text(value='', description='Cidade')"
      ]
     },
     "metadata": {},
     "output_type": "display_data"
    },
    {
     "data": {
      "application/vnd.jupyter.widget-view+json": {
       "model_id": "e2497bd2c5c14a3a98f4826de83ae89b",
       "version_major": 2,
       "version_minor": 0
      },
      "text/plain": [
       "Button(description='Criar estádio', icon='check', style=ButtonStyle())"
      ]
     },
     "metadata": {},
     "output_type": "display_data"
    },
    {
     "data": {
      "application/vnd.jupyter.widget-view+json": {
       "model_id": "a85c3ee8584a4c19ac9904fa6eb1891b",
       "version_major": 2,
       "version_minor": 0
      },
      "text/plain": [
       "Output()"
      ]
     },
     "metadata": {},
     "output_type": "display_data"
    }
   ],
   "source": [
    "output = widgets.Output()\n",
    "nome = widgets.Text(description=\"Nome\")\n",
    "end_rua = widgets.Text(description=\"Rua\")\n",
    "end_numero = widgets.IntText(description=\"Numero\")\n",
    "end_cidade = widgets.Text(description=\"Cidade\")\n",
    "\n",
    "button = widgets.Button(description=\"Criar estádio\", icon=\"check\")\n",
    "\n",
    "def insert_estadio(data):\n",
    "    query = \"INSERT INTO ESTADIO(NOME, END_RUA, END_NUM, END_CIDADE) VALUES (:NOME,:END_RUA,:END_NUMERO,:END_CIDADE)\"\n",
    "    print(query)\n",
    "    try:\n",
    "        cur = conection.cursor()\n",
    "        cur.execute(query,data)\n",
    "        conection.commit()\n",
    "        cur.close()\n",
    "    except cx_Oracle.Error as e:\n",
    "        print(e)\n",
    "\n",
    "def cria_estadio(b):\n",
    "    output.clear_output()\n",
    "    with output:\n",
    "        try:\n",
    "            insert_estadio(data = {\n",
    "                \"NOME\": nome.value,\n",
    "                \"END_RUA\":end_rua.value,\n",
    "                \"END_NUMERO\":end_numero.value,\n",
    "                \"END_CIDADE\":end_cidade.value\n",
    "            })\n",
    "            print(\"Estádio cadastrado com sucesso!\")\n",
    "        except cx_Oracle.Error as e:\n",
    "            print(e)\n",
    "\n",
    "\n",
    "button.on_click(cria_estadio)\n",
    "\n",
    "display(nome,end_rua,end_numero,end_cidade,button,output)"
   ]
  },
  {
   "cell_type": "code",
   "execution_count": 31,
   "metadata": {},
   "outputs": [
    {
     "data": {
      "application/vnd.jupyter.widget-view+json": {
       "model_id": "d708868be7c9454fbfec357ca25bc3b5",
       "version_major": 2,
       "version_minor": 0
      },
      "text/plain": [
       "Text(value='', description='Tabela')"
      ]
     },
     "metadata": {},
     "output_type": "display_data"
    },
    {
     "data": {
      "application/vnd.jupyter.widget-view+json": {
       "model_id": "5739b975c6f745bd8c2d2886c6215c68",
       "version_major": 2,
       "version_minor": 0
      },
      "text/plain": [
       "Button(description='Mostrar dados!', icon='check', style=ButtonStyle())"
      ]
     },
     "metadata": {},
     "output_type": "display_data"
    },
    {
     "data": {
      "application/vnd.jupyter.widget-view+json": {
       "model_id": "79225574361a48f1b3bf7f1622b53c5e",
       "version_major": 2,
       "version_minor": 0
      },
      "text/plain": [
       "Output()"
      ]
     },
     "metadata": {},
     "output_type": "display_data"
    }
   ],
   "source": [
    "output = widgets.Output()\n",
    "\n",
    "table = widgets.Text(description=\"Tabela\")\n",
    "button = widgets.Button(description=\"Mostrar dados!\", icon=\"check\")\n",
    "\n",
    "\n",
    "def select_table_data(table_name):\n",
    "    query = \"SELECT * FROM \"+table_name\n",
    "    print(query)\n",
    "    try:\n",
    "        cur = conection.cursor()\n",
    "        cur.execute(query)\n",
    "        for row in cur.fetchall():\n",
    "            print(row)\n",
    "        conection.commit()\n",
    "        cur.close()\n",
    "    except cx_Oracle.Error as e:\n",
    "        print(e)\n",
    "\n",
    "def show_data(b):\n",
    "    output.clear_output()\n",
    "    with output:\n",
    "        try:\n",
    "            select_table_data(table.value)\n",
    "        except cx_Oracle.Error as e:\n",
    "            print(e)\n",
    "\n",
    "\n",
    "button.on_click(show_data)\n",
    "\n",
    "\n",
    "display(table,button,output)"
   ]
  },
  {
   "cell_type": "code",
   "execution_count": 34,
   "metadata": {},
   "outputs": [
    {
     "data": {
      "application/vnd.jupyter.widget-view+json": {
       "model_id": "160b66ec173c4863bd2f4c31cc1cdad4",
       "version_major": 2,
       "version_minor": 0
      },
      "text/plain": [
       "Textarea(value='', description='Query')"
      ]
     },
     "metadata": {},
     "output_type": "display_data"
    },
    {
     "data": {
      "application/vnd.jupyter.widget-view+json": {
       "model_id": "731d8ef8f5604ad3bd4924a9906e8668",
       "version_major": 2,
       "version_minor": 0
      },
      "text/plain": [
       "Button(description='Fazer query!', icon='check', style=ButtonStyle())"
      ]
     },
     "metadata": {},
     "output_type": "display_data"
    },
    {
     "data": {
      "application/vnd.jupyter.widget-view+json": {
       "model_id": "473cb659b89542c0ad040a0333c3086f",
       "version_major": 2,
       "version_minor": 0
      },
      "text/plain": [
       "Output()"
      ]
     },
     "metadata": {},
     "output_type": "display_data"
    }
   ],
   "source": [
    "output = widgets.Output()\n",
    "\n",
    "query = widgets.Textarea(description=\"Query\")\n",
    "button = widgets.Button(description=\"Fazer query!\", icon=\"check\")\n",
    "\n",
    "\n",
    "def make_query(b):\n",
    "    output.clear_output()\n",
    "    with output:\n",
    "        try:\n",
    "            cur = conection.cursor()\n",
    "            cur.execute(query.value)\n",
    "            conection.commit()\n",
    "            cur.close()\n",
    "        except cx_Oracle.Error as e:\n",
    "            print(e)\n",
    "\n",
    "\n",
    "button.on_click(make_query)\n",
    "\n",
    "display(query,button,output)"
   ]
  },
  {
   "cell_type": "code",
   "execution_count": 35,
   "metadata": {},
   "outputs": [
    {
     "data": {
      "application/vnd.jupyter.widget-view+json": {
       "model_id": "3b493c3b3a194733bd4012e9c760bbae",
       "version_major": 2,
       "version_minor": 0
      },
      "text/plain": [
       "Textarea(value='', description='Query')"
      ]
     },
     "metadata": {},
     "output_type": "display_data"
    },
    {
     "data": {
      "application/vnd.jupyter.widget-view+json": {
       "model_id": "af56645d5b8f48ceb7fe2ac29cbd61df",
       "version_major": 2,
       "version_minor": 0
      },
      "text/plain": [
       "Button(description='Fazer query!', icon='check', style=ButtonStyle())"
      ]
     },
     "metadata": {},
     "output_type": "display_data"
    },
    {
     "data": {
      "application/vnd.jupyter.widget-view+json": {
       "model_id": "5383f41e814b4c2cbb9f5b82382ff79d",
       "version_major": 2,
       "version_minor": 0
      },
      "text/plain": [
       "Output()"
      ]
     },
     "metadata": {},
     "output_type": "display_data"
    }
   ],
   "source": [
    "output = widgets.Output()\n",
    "\n",
    "query = widgets.Textarea(description=\"Query\")\n",
    "button = widgets.Button(description=\"Fazer query!\", icon=\"check\")\n",
    "\n",
    "\n",
    "def make_query(b):\n",
    "    output.clear_output()\n",
    "    with output:\n",
    "        try:\n",
    "            cur = conection.cursor()\n",
    "            cur.execute(query.value)\n",
    "            for row in cur.fetchall():\n",
    "                print(row)\n",
    "            conection.commit()\n",
    "            cur.close()\n",
    "        except cx_Oracle.Error as e:\n",
    "            print(e)\n",
    "\n",
    "\n",
    "button.on_click(make_query)\n",
    "\n",
    "display(query,button,output)"
   ]
  }
 ],
 "metadata": {
  "kernelspec": {
   "display_name": "Python 3",
   "language": "python",
   "name": "python3"
  },
  "language_info": {
   "codemirror_mode": {
    "name": "ipython",
    "version": 3
   },
   "file_extension": ".py",
   "mimetype": "text/x-python",
   "name": "python",
   "nbconvert_exporter": "python",
   "pygments_lexer": "ipython3",
   "version": "3.11.3"
  },
  "orig_nbformat": 4
 },
 "nbformat": 4,
 "nbformat_minor": 2
}
